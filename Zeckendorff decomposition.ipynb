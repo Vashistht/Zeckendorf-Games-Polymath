{
 "cells": [
  {
   "cell_type": "markdown",
   "metadata": {},
   "source": [
    "Idea is borrowed from \"https://www.geeksforgeeks.org/zeckendorfs-theorem-non-neighbouring-fibonacci-representation/\""
   ]
  },
  {
   "cell_type": "code",
   "execution_count": 68,
   "metadata": {},
   "outputs": [],
   "source": [
    "\"\"\"Argument: Takes n, a natural number\n",
    "Returns: the nearest fibonnaci number <= n\"\"\"\n",
    "\n",
    "\n",
    "def nearest_fib(n): \n",
    "    # Left end case (f_1 = 1)\n",
    "    if (n == 1): \n",
    "        return n\n",
    "         \n",
    "    # Finds the greatest Fibonacci Number smaller than n. \n",
    "    f1, f2, f3 = 1, 2, 3\n",
    "    while (f3 <= n): \n",
    "        f1 = f2 \n",
    "        f2 = f3\n",
    "        f3 = f1 + f2\n",
    "    return f2"
   ]
  },
  {
   "cell_type": "code",
   "execution_count": 80,
   "metadata": {},
   "outputs": [],
   "source": [
    "\"\"\"Argument: Takes in a natural number x, whose zeckendorf Decomposition is to be constructed\n",
    "Returns: A list of summands of the fibbonacci decomposition of x \"\"\"\n",
    "\n",
    "\n",
    "def zeck_decomposition(x):\n",
    "    n = x\n",
    "    list = []\n",
    "    while (n>0):\n",
    "        x = nearest_fib(n)\n",
    "        n = n-x\n",
    "        list.append(x)\n",
    "    return list"
   ]
  },
  {
   "cell_type": "code",
   "execution_count": 81,
   "metadata": {},
   "outputs": [
    {
     "data": {
      "text/plain": [
       "[21, 8, 1]"
      ]
     },
     "execution_count": 81,
     "metadata": {},
     "output_type": "execute_result"
    }
   ],
   "source": [
    "zeck_declist(30)"
   ]
  },
  {
   "cell_type": "code",
   "execution_count": 82,
   "metadata": {},
   "outputs": [
    {
     "data": {
      "text/plain": [
       "1"
      ]
     },
     "execution_count": 82,
     "metadata": {},
     "output_type": "execute_result"
    }
   ],
   "source": [
    "nearest_fib(1)"
   ]
  },
  {
   "cell_type": "code",
   "execution_count": 96,
   "metadata": {},
   "outputs": [],
   "source": [
    "\"\"\" Argument: n a natural number\n",
    "Returns: A list of first n Fibonnacci numbers\"\"\"\n",
    "\n",
    "\n",
    "def fibs(n):\n",
    "    if n == 1:\n",
    "        return [1]\n",
    "    elif n == 2:\n",
    "        return [1, 2]\n",
    "    else:\n",
    "        list = fibs(n-1)\n",
    "#         print(lst)\n",
    "#         print(lst[-1], lst[-2])\n",
    "        list.append(list[-1] + list[-2])\n",
    "        return list"
   ]
  },
  {
   "cell_type": "code",
   "execution_count": 98,
   "metadata": {},
   "outputs": [
    {
     "data": {
      "text/plain": [
       "[1, 2, 3]"
      ]
     },
     "execution_count": 98,
     "metadata": {},
     "output_type": "execute_result"
    }
   ],
   "source": [
    "fibs(3)"
   ]
  },
  {
   "cell_type": "code",
   "execution_count": 104,
   "metadata": {},
   "outputs": [
    {
     "data": {
      "text/plain": [
       "[1, 2, 3, 5]"
      ]
     },
     "execution_count": 104,
     "metadata": {},
     "output_type": "execute_result"
    }
   ],
   "source": [
    "fibs(4)"
   ]
  },
  {
   "cell_type": "markdown",
   "metadata": {},
   "source": [
    "#### Check mathematica documentation on Python Integration:\n",
    "- https://reference.wolfram.com/language/WolframClientForPython\n",
    "- https://blog.wolfram.com/2019/05/16/announcing-the-wolfram-client-library-for-python/"
   ]
  },
  {
   "cell_type": "code",
   "execution_count": null,
   "metadata": {},
   "outputs": [],
   "source": []
  }
 ],
 "metadata": {
  "kernelspec": {
   "display_name": "Python 3",
   "language": "python",
   "name": "python3"
  },
  "language_info": {
   "codemirror_mode": {
    "name": "ipython",
    "version": 3
   },
   "file_extension": ".py",
   "mimetype": "text/x-python",
   "name": "python",
   "nbconvert_exporter": "python",
   "pygments_lexer": "ipython3",
   "version": "3.7.6"
  }
 },
 "nbformat": 4,
 "nbformat_minor": 4
}
